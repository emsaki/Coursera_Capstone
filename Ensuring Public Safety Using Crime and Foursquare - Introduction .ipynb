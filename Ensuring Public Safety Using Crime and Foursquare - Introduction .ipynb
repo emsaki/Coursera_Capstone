{
    "cells": [
        {
            "cell_type": "markdown",
            "metadata": {},
            "source": "# Ensuring Public Safety Using Historical Crime Data and Foursquare Location Data - Capston Project"
        },
        {
            "cell_type": "markdown",
            "metadata": {},
            "source": "## 1. Introduction/Business Problem "
        },
        {
            "cell_type": "markdown",
            "metadata": {},
            "source": "The idea is to use data science concepts to see how historical crime records can be used together with Foursquare\nlocation data to help security officers ensuring public safety. In this, the security officers would\ncrime records and map with the social activities data to the locations given by Foursquare. In so doing the security\nofficers would be allocated accordingly to the places with high rate of crimes in relation to Foursquare venues data."
        },
        {
            "cell_type": "markdown",
            "metadata": {},
            "source": "Public security becomes a problem since the perpetrators are among the social members and they plan their activities in a more organised manner, so the security officers should incorporate social activities with the public safety.\nFoursquare provides social data about people interests on particular places, so using this data security officers can identify places related to high crime rate that are near to public places provided by Foursquare data."
        },
        {
            "cell_type": "markdown",
            "metadata": {},
            "source": "For example, let say we have crime records for Bangalore; then we can check which places have high rate of crimes. After identifying those places we can use Foursquare location data for identifying venues available in a particular area with high crime rate, with this information we can allocate security officers accordingly and use this information for public security awareness as they visit those places."
        },
        {
            "cell_type": "code",
            "execution_count": null,
            "metadata": {},
            "outputs": [],
            "source": ""
        }
    ],
    "metadata": {
        "kernelspec": {
            "display_name": "Python 3.7",
            "language": "python",
            "name": "python3"
        },
        "language_info": {
            "codemirror_mode": {
                "name": "ipython",
                "version": 3
            },
            "file_extension": ".py",
            "mimetype": "text/x-python",
            "name": "python",
            "nbconvert_exporter": "python",
            "pygments_lexer": "ipython3",
            "version": "3.7.9"
        }
    },
    "nbformat": 4,
    "nbformat_minor": 4
}